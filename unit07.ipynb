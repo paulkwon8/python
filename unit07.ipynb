{
 "cells": [
  {
   "cell_type": "code",
   "execution_count": 1,
   "metadata": {},
   "outputs": [
    {
     "name": "stdout",
     "output_type": "stream",
     "text": [
      "['서울특별시 구로구 신도림동(1153051000)', '37,268', '37,268', '326', '334', '406', '413', '389', '408', '417', '434', '411', '387', '420', '383', '354', '357', '340', '338', '349', '339', '407', '380', '390', '453', '424', '516', '451', '466', '448', '484', '471', '476', '558', '541', '579', '619', '638', '740', '756', '792', '745', '789', '671', '687', '700', '636', '726', '691', '657', '619', '649', '585', '579', '470', '522', '534', '563', '445', '511', '569', '572', '513', '532', '456', '426', '497', '379', '384', '399', '279', '289', '276', '268', '271', '223', '170', '150', '154', '177', '140', '126', '114', '121', '97', '86', '80', '59', '48', '44', '43', '28', '29', '22', '15', '13', '12', '5', '8', '5', '4', '2', '3', '7']\n"
     ]
    }
   ],
   "source": [
    "import csv\n",
    "f = open('age.csv')\n",
    "data = csv.reader(f)\n",
    "\n",
    "for row in data:\n",
    "    if '서울특별시 구로구 신도림동(1153051000)' == row[0]:\n",
    "        print(row)"
   ]
  },
  {
   "cell_type": "code",
   "execution_count": 2,
   "metadata": {},
   "outputs": [
    {
     "name": "stdout",
     "output_type": "stream",
     "text": [
      "True\n",
      "True\n",
      "False\n"
     ]
    }
   ],
   "source": [
    "print('신도림' in '서울특별시 구로구 신도림동(1153051000)')\n",
    "print('1153' in '서울특별시 구로구 신도림동(1153051000)')\n",
    "print('()' in '서울특별시 구로구 신도림동(1153051000)')"
   ]
  },
  {
   "cell_type": "code",
   "execution_count": 3,
   "metadata": {},
   "outputs": [
    {
     "name": "stdout",
     "output_type": "stream",
     "text": [
      "['서울특별시 구로구 신도림동(1153051000)', '37,268', '37,268', '326', '334', '406', '413', '389', '408', '417', '434', '411', '387', '420', '383', '354', '357', '340', '338', '349', '339', '407', '380', '390', '453', '424', '516', '451', '466', '448', '484', '471', '476', '558', '541', '579', '619', '638', '740', '756', '792', '745', '789', '671', '687', '700', '636', '726', '691', '657', '619', '649', '585', '579', '470', '522', '534', '563', '445', '511', '569', '572', '513', '532', '456', '426', '497', '379', '384', '399', '279', '289', '276', '268', '271', '223', '170', '150', '154', '177', '140', '126', '114', '121', '97', '86', '80', '59', '48', '44', '43', '28', '29', '22', '15', '13', '12', '5', '8', '5', '4', '2', '3', '7']\n"
     ]
    }
   ],
   "source": [
    "import csv\n",
    "f = open('age.csv')\n",
    "data = csv.reader(f)\n",
    "\n",
    "for row in data:\n",
    "    if '신도림' in row[0]:\n",
    "        print(row)"
   ]
  },
  {
   "cell_type": "code",
   "execution_count": 4,
   "metadata": {},
   "outputs": [
    {
     "name": "stdout",
     "output_type": "stream",
     "text": [
      "326\n",
      "334\n",
      "406\n",
      "413\n",
      "389\n",
      "408\n",
      "417\n",
      "434\n",
      "411\n",
      "387\n",
      "420\n",
      "383\n",
      "354\n",
      "357\n",
      "340\n",
      "338\n",
      "349\n",
      "339\n",
      "407\n",
      "380\n",
      "390\n",
      "453\n",
      "424\n",
      "516\n",
      "451\n",
      "466\n",
      "448\n",
      "484\n",
      "471\n",
      "476\n",
      "558\n",
      "541\n",
      "579\n",
      "619\n",
      "638\n",
      "740\n",
      "756\n",
      "792\n",
      "745\n",
      "789\n",
      "671\n",
      "687\n",
      "700\n",
      "636\n",
      "726\n",
      "691\n",
      "657\n",
      "619\n",
      "649\n",
      "585\n",
      "579\n",
      "470\n",
      "522\n",
      "534\n",
      "563\n",
      "445\n",
      "511\n",
      "569\n",
      "572\n",
      "513\n",
      "532\n",
      "456\n",
      "426\n",
      "497\n",
      "379\n",
      "384\n",
      "399\n",
      "279\n",
      "289\n",
      "276\n",
      "268\n",
      "271\n",
      "223\n",
      "170\n",
      "150\n",
      "154\n",
      "177\n",
      "140\n",
      "126\n",
      "114\n",
      "121\n",
      "97\n",
      "86\n",
      "80\n",
      "59\n",
      "48\n",
      "44\n",
      "43\n",
      "28\n",
      "29\n",
      "22\n",
      "15\n",
      "13\n",
      "12\n",
      "5\n",
      "8\n",
      "5\n",
      "4\n",
      "2\n",
      "3\n",
      "7\n"
     ]
    }
   ],
   "source": [
    "import csv\n",
    "f = open('age.csv')\n",
    "data = csv.reader(f)\n",
    "\n",
    "for row in data:\n",
    "    if '신도림' in row[0]:\n",
    "        for i in row[3:]:\n",
    "            print(i)"
   ]
  },
  {
   "cell_type": "code",
   "execution_count": 5,
   "metadata": {},
   "outputs": [
    {
     "name": "stdout",
     "output_type": "stream",
     "text": [
      "[326, 334, 406, 413, 389, 408, 417, 434, 411, 387, 420, 383, 354, 357, 340, 338, 349, 339, 407, 380, 390, 453, 424, 516, 451, 466, 448, 484, 471, 476, 558, 541, 579, 619, 638, 740, 756, 792, 745, 789, 671, 687, 700, 636, 726, 691, 657, 619, 649, 585, 579, 470, 522, 534, 563, 445, 511, 569, 572, 513, 532, 456, 426, 497, 379, 384, 399, 279, 289, 276, 268, 271, 223, 170, 150, 154, 177, 140, 126, 114, 121, 97, 86, 80, 59, 48, 44, 43, 28, 29, 22, 15, 13, 12, 5, 8, 5, 4, 2, 3, 7]\n"
     ]
    },
    {
     "data": {
      "text/plain": [
       "<Figure size 640x480 with 1 Axes>"
      ]
     },
     "metadata": {},
     "output_type": "display_data"
    }
   ],
   "source": [
    "import csv\n",
    "import matplotlib.pyplot as plt\n",
    "\n",
    "f = open('age.csv')\n",
    "data = csv.reader(f)\n",
    "result= []\n",
    "\n",
    "for row in data:\n",
    "    if '신도림' in row[0]:\n",
    "        for i in row[3:]:\n",
    "            result.append(int(i))\n",
    "print(result)\n",
    "\n",
    "plt.style.use('ggplot')\n",
    "plt.plot(result)\n",
    "plt.show()"
   ]
  },
  {
   "cell_type": "code",
   "execution_count": 7,
   "metadata": {},
   "outputs": [
    {
     "name": "stdout",
     "output_type": "stream",
     "text": [
      "인구 구조가 알고 싶은 지역의 이름(읍면동 단위)을 입력해 주세요 : 사당\n",
      "[112, 110, 99, 115, 109, 91, 76, 106, 92, 72, 99, 76, 74, 78, 98, 94, 89, 116, 173, 193, 239, 284, 307, 456, 494, 581, 636, 786, 673, 686, 658, 618, 518, 508, 408, 467, 470, 451, 439, 385, 298, 332, 311, 273, 309, 291, 304, 298, 277, 325, 296, 314, 294, 284, 330, 335, 350, 343, 389, 390, 362, 345, 341, 326, 298, 263, 301, 201, 241, 228, 243, 209, 216, 187, 169, 118, 159, 139, 116, 99, 85, 77, 56, 45, 44, 36, 27, 27, 18, 18, 13, 15, 8, 5, 7, 4, 3, 1, 2, 2, 5, 196, 210, 199, 229, 224, 207, 196, 189, 189, 156, 183, 182, 131, 161, 131, 149, 178, 196, 247, 250, 280, 299, 304, 378, 386, 403, 433, 487, 430, 466, 517, 460, 447, 504, 468, 494, 569, 495, 484, 462, 395, 438, 411, 410, 405, 419, 397, 463, 416, 449, 445, 401, 359, 420, 405, 421, 422, 466, 519, 487, 447, 442, 423, 467, 399, 347, 344, 290, 305, 309, 290, 329, 253, 214, 213, 197, 257, 199, 180, 168, 125, 98, 105, 86, 84, 69, 66, 48, 34, 25, 28, 22, 15, 16, 9, 15, 11, 3, 1, 9, 28, 176, 209, 231, 252, 267, 238, 282, 248, 224, 204, 187, 206, 159, 135, 169, 138, 179, 174, 192, 252, 257, 276, 316, 368, 359, 392, 415, 452, 412, 423, 381, 402, 410, 401, 452, 468, 523, 494, 489, 558, 430, 434, 408, 376, 374, 418, 391, 395, 383, 380, 422, 343, 386, 355, 390, 381, 425, 455, 442, 445, 386, 380, 371, 421, 359, 355, 287, 264, 279, 274, 265, 269, 246, 172, 164, 172, 212, 176, 160, 127, 106, 90, 82, 72, 71, 49, 38, 29, 25, 19, 29, 9, 15, 10, 10, 5, 8, 8, 2, 2, 19, 92, 72, 108, 110, 110, 77, 77, 58, 82, 54, 78, 64, 66, 72, 77, 68, 97, 110, 119, 136, 144, 177, 194, 218, 296, 306, 330, 325, 301, 296, 286, 299, 263, 257, 247, 275, 260, 288, 253, 253, 202, 206, 195, 221, 245, 207, 220, 233, 230, 221, 204, 234, 186, 210, 232, 208, 213, 269, 276, 238, 237, 216, 199, 219, 218, 156, 171, 137, 159, 153, 144, 155, 170, 116, 118, 102, 110, 99, 86, 95, 51, 45, 56, 44, 27, 25, 30, 18, 13, 24, 12, 12, 17, 4, 6, 6, 3, 2, 3, 2, 5, 80, 96, 89, 99, 109, 81, 92, 108, 104, 97, 95, 107, 71, 85, 88, 86, 96, 97, 120, 122, 125, 157, 162, 200, 220, 246, 228, 247, 225, 233, 186, 204, 218, 235, 192, 224, 238, 233, 246, 251, 221, 196, 209, 204, 202, 228, 177, 213, 204, 201, 195, 176, 207, 184, 200, 176, 201, 213, 223, 217, 181, 176, 156, 184, 151, 147, 157, 124, 118, 117, 123, 123, 91, 92, 77, 79, 106, 81, 69, 66, 49, 63, 37, 37, 44, 29, 16, 17, 13, 11, 13, 6, 6, 0, 9, 6, 0, 1, 1, 1, 13]\n"
     ]
    },
    {
     "data": {
      "image/png": "[encoded data removed]",
      "text/plain": [
       "<Figure size 432x288 with 1 Axes>"
      ]
     },
     "metadata": {},
     "output_type": "display_data"
    }
   ],
   "source": [
    "import csv\n",
    "import matplotlib.pyplot as plt\n",
    "\n",
    "f = open('age.csv')\n",
    "data = csv.reader(f)\n",
    "result= []\n",
    "region = input ('인구 구조가 알고 싶은 지역의 이름(읍면동 단위)을 입력해 주세요 : ')\n",
    "\n",
    "for row in data:\n",
    "    if region in row[0]:\n",
    "        for i in row[3:]:\n",
    "            result.append(int(i))\n",
    "print(result)\n",
    "\n",
    "plt.style.use('ggplot')\n",
    "plt.plot(result)\n",
    "plt.show()"
   ]
  },
  {
   "cell_type": "code",
   "execution_count": null,
   "metadata": {},
   "outputs": [],
   "source": []
  }
 ],
 "metadata": {
  "kernelspec": {
   "display_name": "Python 3",
   "language": "python",
   "name": "python3"
  },
  "language_info": {
   "codemirror_mode": {
    "name": "ipython",
    "version": 3
   },
   "file_extension": ".py",
   "mimetype": "text/x-python",
   "name": "python",
   "nbconvert_exporter": "python",
   "pygments_lexer": "ipython3",
   "version": "3.7.3"
  }
 },
 "nbformat": 4,
 "nbformat_minor": 2
}
