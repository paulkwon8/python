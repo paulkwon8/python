{
 "cells": [
  {
   "cell_type": "markdown",
   "metadata": {},
   "source": [
    "# unit8 인구 구조를 다양한 형태로 시각화하기"
   ]
  },
  {
   "cell_type": "code",
   "execution_count": 1,
   "metadata": {},
   "outputs": [],
   "source": [
    "import numpy as np\n",
    "import pandas as pd\n",
    "import matplotlib.pyplot as plt"
   ]
  },
  {
   "cell_type": "code",
   "execution_count": 2,
   "metadata": {},
   "outputs": [
    {
     "data": {
      "text/plain": [
       "<BarContainer object of 10 artists>"
      ]
     },
     "execution_count": 2,
     "metadata": {},
     "output_type": "execute_result"
    },
    {
     "data": {
      "image/png": "[encoded data removed]",
      "text/plain": [
       "<Figure size 360x72 with 1 Axes>"
      ]
     },
     "metadata": {
      "needs_background": "light"
     },
     "output_type": "display_data"
    }
   ],
   "source": [
    "# 막대그래프(x,y)\n",
    "plt.figure(figsize=(5,1))\n",
    "plt.bar(np.arange(10), np.random.randint(1,10,size=10))"
   ]
  },
  {
   "cell_type": "code",
   "execution_count": 3,
   "metadata": {},
   "outputs": [
    {
     "data": {
      "text/plain": [
       "<matplotlib.legend.Legend at 0x276823b6d68>"
      ]
     },
     "execution_count": 3,
     "metadata": {},
     "output_type": "execute_result"
    },
    {
     "data": {
      "image/png": "[encoded data removed]",
      "text/plain": [
       "<Figure size 360x72 with 1 Axes>"
      ]
     },
     "metadata": {
      "needs_background": "light"
     },
     "output_type": "display_data"
    }
   ],
   "source": [
    "plt.figure(figsize=(5,1))\n",
    "plt.barh(np.arange(10), np.random.randint(1,10,size=10), label='1')  #bar hoizontal\n",
    "plt.barh(np.arange(10), - np.random.randint(1,10,size=10), label='2')  #bar hoizontal\n",
    "plt.legend()"
   ]
  },
  {
   "cell_type": "code",
   "execution_count": 4,
   "metadata": {},
   "outputs": [
    {
     "data": {
      "text/plain": [
       "(34, 207)"
      ]
     },
     "execution_count": 4,
     "metadata": {},
     "output_type": "execute_result"
    }
   ],
   "source": [
    "#p115\n",
    "df = pd.read_csv('anyang_people.csv', encoding='cp949')\n",
    "df = df.replace(',','', regex=True)\n",
    "df.shape"
   ]
  },
  {
   "cell_type": "markdown",
   "metadata": {},
   "source": [
    "- 특정 도시(안양)의 여성과 남성의 나이별 인구수 대조\n",
    "- 컬럼 위치 찾기 : 남 0세 ~ 남 90세, 여 0세 ~ 여 90세\n",
    "- 0세:10명, 1세:20명, ....도시에서 모두 누적 > 막대 그래프로 표현"
   ]
  },
  {
   "cell_type": "code",
   "execution_count": 5,
   "metadata": {},
   "outputs": [
    {
     "data": {
      "text/plain": [
       "(True, False)"
      ]
     },
     "execution_count": 5,
     "metadata": {},
     "output_type": "execute_result"
    }
   ],
   "source": [
    "'a' in 'abc', 'x' in 'abc'"
   ]
  },
  {
   "cell_type": "code",
   "execution_count": 15,
   "metadata": {},
   "outputs": [
    {
     "name": "stdout",
     "output_type": "stream",
     "text": [
      "2019년05월_남_0세 2019년05월_남_99세 2019년05월_여_0세 2019년05월_여_99세\n"
     ]
    }
   ],
   "source": [
    "max_age = 99\n",
    "city = '경기도 안양시 동안구 부림동'\n",
    "man_0 = '2019년05월_남_0세'\n",
    "woman_0 = '2019년05월_여_0세'\n",
    "type(list(df.columns))\n",
    "columns = list(df.columns)\n",
    "man_0_index = columns.index(man_0)\n",
    "woman_0_index = columns.index(woman_0)\n",
    "man_0_index\n",
    "print(columns[man_0_index], columns[man_0_index + max_age],  # 0세,90세 위치 찾기\n",
    "columns[woman_0_index], columns[woman_0_index + max_age]  # 0세,90세 위치 찾기\n",
    "     )"
   ]
  },
  {
   "cell_type": "code",
   "execution_count": 16,
   "metadata": {},
   "outputs": [
    {
     "name": "stdout",
     "output_type": "stream",
     "text": [
      "24 경기도 안양시 동안구 부림동(4117356600)\n"
     ]
    }
   ],
   "source": [
    "data = np.array(df)\n",
    "area = data[:,0]\n",
    "area[:3]\n",
    "city_row_index = 0\n",
    "for i in range(len(area)):\n",
    "    if city in area[i]:\n",
    "        city_row_index = i\n",
    "        print(city_row_index, area[i])"
   ]
  },
  {
   "cell_type": "code",
   "execution_count": 17,
   "metadata": {},
   "outputs": [
    {
     "data": {
      "text/plain": [
       "((99,), (99,))"
      ]
     },
     "execution_count": 17,
     "metadata": {},
     "output_type": "execute_result"
    }
   ],
   "source": [
    "city_data = data[city_row_index]\n",
    "city_man = city_data[man_0_index:man_0_index + max_age].astype(np.int)\n",
    "city_woman = city_data[woman_0_index:woman_0_index + max_age].astype(np.int)\n",
    "city_man.shape, city_woman.shape"
   ]
  },
  {
   "cell_type": "code",
   "execution_count": 18,
   "metadata": {},
   "outputs": [
    {
     "data": {
      "image/png": "[encoded data removed]",
      "text/plain": [
       "<Figure size 576x216 with 1 Axes>"
      ]
     },
     "metadata": {
      "needs_background": "light"
     },
     "output_type": "display_data"
    }
   ],
   "source": [
    "plt.figure(figsize=(8,3))\n",
    "m = plt.barh(np.arange(len(city_man)), city_man, label='man')\n",
    "m = plt.barh(np.arange(len(city_woman)), -city_woman, label='woman')\n",
    "m = plt.legend()"
   ]
  },
  {
   "cell_type": "code",
   "execution_count": 19,
   "metadata": {},
   "outputs": [
    {
     "data": {
      "text/plain": [
       "(34, 207)"
      ]
     },
     "execution_count": 19,
     "metadata": {},
     "output_type": "execute_result"
    }
   ],
   "source": [
    "city = '안양' #이 글자가 들어간 행은 전부 찾자, 조건부 검색, 마스크(True만 뽑기)\n",
    "is_contain = []\n",
    "for i in range(len(area)):\n",
    "    is_contain.append(city in area[i])\n",
    "np.mean(is_contain)\n",
    "city_data = data[is_contain]\n",
    "city_data.shape"
   ]
  },
  {
   "cell_type": "code",
   "execution_count": 20,
   "metadata": {},
   "outputs": [],
   "source": [
    "city_man = city_data[:, man_0_index:man_0_index + max_age].astype(np.int)\n",
    "city_woman = city_data[:, woman_0_index:woman_0_index + max_age].astype(np.int)\n",
    "\n",
    "city_man.shape, city_woman.shape\n",
    "\n",
    "sum_city_man = np.sum(city_man, axis=0)\n",
    "sum_city_woman = np.sum(city_woman, axis=0)"
   ]
  },
  {
   "cell_type": "code",
   "execution_count": 21,
   "metadata": {},
   "outputs": [
    {
     "data": {
      "image/png": "[encoded data removed]",
      "text/plain": [
       "<Figure size 576x216 with 1 Axes>"
      ]
     },
     "metadata": {
      "needs_background": "light"
     },
     "output_type": "display_data"
    }
   ],
   "source": [
    "plt.figure(figsize=(8,3))\n",
    "m = plt.barh(np.arange(len(sum_city_man)), sum_city_man, label='man')\n",
    "m = plt.barh(np.arange(len(sum_city_woman)), -sum_city_woman, label='woman')\n",
    "m = plt.legend()"
   ]
  },
  {
   "cell_type": "code",
   "execution_count": 22,
   "metadata": {},
   "outputs": [
    {
     "data": {
      "text/plain": [
       "Index(['행정구역', '2019년05월_남_총인구수', '2019년05월_남_연령구간인구수', '2019년05월_남_0세',\n",
       "       '2019년05월_남_1세', '2019년05월_남_2세', '2019년05월_남_3세', '2019년05월_남_4세',\n",
       "       '2019년05월_남_5세', '2019년05월_남_6세',\n",
       "       ...\n",
       "       '2019년05월_여_91세', '2019년05월_여_92세', '2019년05월_여_93세', '2019년05월_여_94세',\n",
       "       '2019년05월_여_95세', '2019년05월_여_96세', '2019년05월_여_97세', '2019년05월_여_98세',\n",
       "       '2019년05월_여_99세', '2019년05월_여_100세 이상'],\n",
       "      dtype='object', length=207)"
      ]
     },
     "execution_count": 22,
     "metadata": {},
     "output_type": "execute_result"
    }
   ],
   "source": [
    "df.columns\n"
   ]
  },
  {
   "cell_type": "code",
   "execution_count": 23,
   "metadata": {
    "scrolled": true
   },
   "outputs": [
    {
     "data": {
      "text/html": [
       "<div>\n",
       "<style scoped>\n",
       "    .dataframe tbody tr th:only-of-type {\n",
       "        vertical-align: middle;\n",
       "    }\n",
       "\n",
       "    .dataframe tbody tr th {\n",
       "        vertical-align: top;\n",
       "    }\n",
       "\n",
       "    .dataframe thead th {\n",
       "        text-align: right;\n",
       "    }\n",
       "</style>\n",
       "<table border=\"1\" class=\"dataframe\">\n",
       "  <thead>\n",
       "    <tr style=\"text-align: right;\">\n",
       "      <th></th>\n",
       "      <th>행정구역</th>\n",
       "      <th>2019년05월_남_총인구수</th>\n",
       "      <th>2019년05월_남_연령구간인구수</th>\n",
       "      <th>2019년05월_남_0세</th>\n",
       "      <th>2019년05월_남_1세</th>\n",
       "      <th>2019년05월_남_2세</th>\n",
       "      <th>2019년05월_남_3세</th>\n",
       "      <th>2019년05월_남_4세</th>\n",
       "      <th>2019년05월_남_5세</th>\n",
       "      <th>2019년05월_남_6세</th>\n",
       "      <th>...</th>\n",
       "      <th>2019년05월_여_91세</th>\n",
       "      <th>2019년05월_여_92세</th>\n",
       "      <th>2019년05월_여_93세</th>\n",
       "      <th>2019년05월_여_94세</th>\n",
       "      <th>2019년05월_여_95세</th>\n",
       "      <th>2019년05월_여_96세</th>\n",
       "      <th>2019년05월_여_97세</th>\n",
       "      <th>2019년05월_여_98세</th>\n",
       "      <th>2019년05월_여_99세</th>\n",
       "      <th>2019년05월_여_100세 이상</th>\n",
       "    </tr>\n",
       "  </thead>\n",
       "  <tbody>\n",
       "    <tr>\n",
       "      <th>0</th>\n",
       "      <td>경기도 안양시 (4117000000)</td>\n",
       "      <td>283867</td>\n",
       "      <td>283867</td>\n",
       "      <td>1871</td>\n",
       "      <td>1921</td>\n",
       "      <td>2102</td>\n",
       "      <td>2266</td>\n",
       "      <td>2277</td>\n",
       "      <td>2269</td>\n",
       "      <td>2350</td>\n",
       "      <td>...</td>\n",
       "      <td>275</td>\n",
       "      <td>221</td>\n",
       "      <td>178</td>\n",
       "      <td>112</td>\n",
       "      <td>81</td>\n",
       "      <td>87</td>\n",
       "      <td>46</td>\n",
       "      <td>45</td>\n",
       "      <td>18</td>\n",
       "      <td>116</td>\n",
       "    </tr>\n",
       "  </tbody>\n",
       "</table>\n",
       "<p>1 rows × 207 columns</p>\n",
       "</div>"
      ],
      "text/plain": [
       "                   행정구역 2019년05월_남_총인구수 2019년05월_남_연령구간인구수 2019년05월_남_0세  \\\n",
       "0  경기도 안양시 (4117000000)          283867             283867          1871   \n",
       "\n",
       "  2019년05월_남_1세 2019년05월_남_2세 2019년05월_남_3세 2019년05월_남_4세 2019년05월_남_5세  \\\n",
       "0          1921          2102          2266          2277          2269   \n",
       "\n",
       "  2019년05월_남_6세  ... 2019년05월_여_91세 2019년05월_여_92세 2019년05월_여_93세  \\\n",
       "0          2350  ...            275            221            178   \n",
       "\n",
       "  2019년05월_여_94세 2019년05월_여_95세 2019년05월_여_96세 2019년05월_여_97세 2019년05월_여_98세  \\\n",
       "0            112             81             87             46             45   \n",
       "\n",
       "  2019년05월_여_99세 2019년05월_여_100세 이상  \n",
       "0             18                116  \n",
       "\n",
       "[1 rows x 207 columns]"
      ]
     },
     "execution_count": 23,
     "metadata": {},
     "output_type": "execute_result"
    }
   ],
   "source": [
    "df.head(1)"
   ]
  },
  {
   "cell_type": "code",
   "execution_count": 32,
   "metadata": {},
   "outputs": [
    {
     "data": {
      "image/png": "[encoded data removed]",
      "text/plain": [
       "<Figure size 432x288 with 1 Axes>"
      ]
     },
     "metadata": {},
     "output_type": "display_data"
    }
   ],
   "source": [
    "#p130, p134 파이 돌출 효과\n",
    "plt.rc('font', family='Malgun Gothic')\n",
    "color = ['darkmagenta', 'deeppink', 'pink']\n",
    "n = plt.pie([10,20,30], labels=['A','B','O'], autopct='%.0f %%', colors=color, explode = (0, 0.2, 0))\n",
    "n = plt.legend()"
   ]
  },
  {
   "cell_type": "code",
   "execution_count": 37,
   "metadata": {},
   "outputs": [
    {
     "data": {
      "image/png": "[encoded data removed]",
      "text/plain": [
       "<Figure size 432x288 with 1 Axes>"
      ]
     },
     "metadata": {},
     "output_type": "display_data"
    }
   ],
   "source": [
    "plt.title('Man/Woman Poputation')\n",
    "colors = ['skyblue','pink']\n",
    "n = plt.pie([np.sum(city_man), np.sum(city_woman)], labels=['M','W'], autopct='%d %%', explode=(0, 0.1))\n",
    "n = plt.legend()"
   ]
  },
  {
   "cell_type": "code",
   "execution_count": 39,
   "metadata": {},
   "outputs": [
    {
     "data": {
      "text/plain": [
       "<matplotlib.legend.Legend at 0x27684137f28>"
      ]
     },
     "execution_count": 39,
     "metadata": {},
     "output_type": "execute_result"
    },
    {
     "data": {
      "image/png": "[encoded data removed]",
      "text/plain": [
       "<Figure size 360x72 with 1 Axes>"
      ]
     },
     "metadata": {
      "needs_background": "light"
     },
     "output_type": "display_data"
    }
   ],
   "source": [
    "plt.figure(figsize=(5,1))\n",
    "p = plt.plot(sum_city_man, label='man')\n",
    "p = plt.plot(sum_city_woman, label='woman')\n",
    "plt.legend()"
   ]
  },
  {
   "cell_type": "code",
   "execution_count": 58,
   "metadata": {},
   "outputs": [
    {
     "data": {
      "text/plain": [
       "<BarContainer object of 99 artists>"
      ]
     },
     "execution_count": 58,
     "metadata": {},
     "output_type": "execute_result"
    },
    {
     "data": {
      "image/png": "[encoded data removed]",
      "text/plain": [
       "<Figure size 360x36 with 1 Axes>"
      ]
     },
     "metadata": {
      "needs_background": "light"
     },
     "output_type": "display_data"
    }
   ],
   "source": [
    "#p144 남녀 인구의 차이\n",
    "plt.figure(figsize=(5,0.5))\n",
    "plt.bar(np.arange(len(sum_city_man)), sum_city_man - sum_city_woman)"
   ]
  },
  {
   "cell_type": "markdown",
   "metadata": {},
   "source": [
    "<ul> unordered list tag <ol> ordered list\n",
    "1. plot(x) plot(x,y) 선\n",
    "1. hist(x) 히스토그램\n",
    "1. boxplot(x) 박스 : 분포\n",
    "1. bar(x,y) barh(x,y) 막대그래프\n",
    "1. pie(x)\n",
    "1. scatter(x,y) 산점도"
   ]
  },
  {
   "cell_type": "code",
   "execution_count": 50,
   "metadata": {},
   "outputs": [
    {
     "data": {
      "image/png": "[encoded data removed]",
      "text/plain": [
       "<Figure size 432x288 with 2 Axes>"
      ]
     },
     "metadata": {
      "needs_background": "light"
     },
     "output_type": "display_data"
    }
   ],
   "source": [
    "#p144 산점도(scatter) 산개할 산, 점 점, 그림 도\n",
    "#p146 s(size), c(color)\n",
    "color = ['red','green','black','gold']\n",
    "color = 'blue'\n",
    "n = plt.scatter([1,2,3,4],[10,30,20,50], s=[10,20,30,40], c=range(4))\n",
    "n = plt.colorbar()"
   ]
  },
  {
   "cell_type": "code",
   "execution_count": 57,
   "metadata": {},
   "outputs": [
    {
     "data": {
      "image/png": "[encoded data removed]",
      "text/plain": [
       "<Figure size 432x288 with 2 Axes>"
      ]
     },
     "metadata": {
      "needs_background": "light"
     },
     "output_type": "display_data"
    }
   ],
   "source": [
    "y = np.random.randint(0, 100, size=100)\n",
    "n = plt.scatter(np.arange(len(y)),y, s=y, c=range(len(y)), cmap='jet', alpha=0.5)\n",
    "n = plt.colorbar()"
   ]
  },
  {
   "cell_type": "code",
   "execution_count": null,
   "metadata": {},
   "outputs": [],
   "source": []
  }
 ],
 "metadata": {
  "kernelspec": {
   "display_name": "Python 3",
   "language": "python",
   "name": "python3"
  },
  "language_info": {
   "codemirror_mode": {
    "name": "ipython",
    "version": 3
   },
   "file_extension": ".py",
   "mimetype": "text/x-python",
   "name": "python",
   "nbconvert_exporter": "python",
   "pygments_lexer": "ipython3",
   "version": "3.7.3"
  }
 },
 "nbformat": 4,
 "nbformat_minor": 2
}
